{
 "metadata": {
  "language_info": {
   "codemirror_mode": {
    "name": "ipython",
    "version": 3
   },
   "file_extension": ".py",
   "mimetype": "text/x-python",
   "name": "python",
   "nbconvert_exporter": "python",
   "pygments_lexer": "ipython3",
   "version": "3.6.9-final"
  },
  "orig_nbformat": 2,
  "kernelspec": {
   "name": "python_defaultSpec_1598010579776",
   "display_name": "Python 3.6.9 64-bit ('env': venv)"
  }
 },
 "nbformat": 4,
 "nbformat_minor": 2,
 "cells": [
  {
   "cell_type": "markdown",
   "metadata": {},
   "source": [
    "# Network Heat Equation\n",
    "\n",
    "This notebook will implement the network analogue of the heat equation. \n",
    "\n",
    "## Heat Equation\n",
    "\n",
    "The continuous heat equation is given by: \n",
    "\n",
    "$$ \\frac{\\partial u}{\\partial t} = k \\Delta u$$\n",
    "\n",
    "where $k$ is a diffusivity constant and $\\Delta$ is the Laplacian operator. \n",
    "\n",
    "A discrete version of this on a network is given by: \n",
    " \n",
    "$$ \\frac{du}{dt} = -k \\mathbf{L} u $$ \n",
    "\n",
    "where, $\\mathbf{L}$ is the graph Laplacian, which, for a particular graph is given by $\\mathbf{L} = \\mathbf{A} - \\mathbf{D}$, the adjacency matrix - the degree matrix. Note that, the  PDE becomes an ODE.  "
   ]
  },
  {
   "cell_type": "code",
   "execution_count": null,
   "metadata": {},
   "outputs": [],
   "source": [
    "import numpy as np\n",
    "import networkx as nx\n",
    "from scipy.integrate import odeint\n",
    "import matplotlib.pyplot as plt\n",
    "from networkx.generators.random_graphs import gnp_random_graph\n",
    "from matplotlib import animation"
   ]
  }
 ]
}