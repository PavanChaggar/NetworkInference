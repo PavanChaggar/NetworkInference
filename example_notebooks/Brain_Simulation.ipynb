{
 "metadata": {
  "language_info": {
   "codemirror_mode": {
    "name": "ipython",
    "version": 3
   },
   "file_extension": ".py",
   "mimetype": "text/x-python",
   "name": "python",
   "nbconvert_exporter": "python",
   "pygments_lexer": "ipython3",
   "version": "3.6.9-final"
  },
  "orig_nbformat": 2,
  "kernelspec": {
   "name": "python_defaultSpec_1600194112912",
   "display_name": "Python 3.6.9 64-bit ('env': venv)"
  }
 },
 "nbformat": 4,
 "nbformat_minor": 2,
 "cells": [
  {
   "cell_type": "code",
   "execution_count": 1,
   "metadata": {},
   "outputs": [],
   "source": [
    "import numpy as np\n",
    "from netwin import *\n",
    "import os\n",
    "from scipy.integrate import odeint\n",
    "import matplotlib.pyplot as plt"
   ]
  },
  {
   "cell_type": "code",
   "execution_count": 2,
   "metadata": {},
   "outputs": [],
   "source": [
    "root_dir = '/home/chaggar/Documents/Network_Inference'\n",
    "graph_path = os.path.join(root_dir, 'data/brain_networks/scale1.csv')\n"
   ]
  },
  {
   "cell_type": "code",
   "execution_count": 3,
   "metadata": {},
   "outputs": [],
   "source": [
    "class NetworkDiffusion(Model):\n",
    "\n",
    "    def f(self, p, t, theta):\n",
    "        k = theta\n",
    "        du = k * (np.matmul(-self.L, p))\n",
    "        return du\n",
    "\n",
    "    def solve(self, p, t, theta):\n",
    "        return odeint(self.f, p, t, args=(theta,))\n",
    "\n",
    "    def forward(self, u0, t): \n",
    "        p = np.exp(u0[:-1])\n",
    "        theta = u0[-1]\n",
    "        #\n",
    "        # print(u0)\n",
    "        u = self.solve(p, t, theta) \n",
    "        return u.T "
   ]
  },
  {
   "cell_type": "code",
   "execution_count": 4,
   "metadata": {},
   "outputs": [],
   "source": [
    "m = NetworkDiffusion(network_path=graph_path)"
   ]
  },
  {
   "cell_type": "code",
   "execution_count": 5,
   "metadata": {},
   "outputs": [],
   "source": [
    "p = np.zeros([83])\n",
    "p[40] = 40\n",
    "k = 5\n",
    "\n",
    "u0 = np.append(np.log(p), k)\n",
    "\n",
    "t = np.linspace(0,1,100)\n",
    "\n",
    "p0 = np.ones([83])\n",
    "k0 = 1\n",
    "\n",
    "u_0 = np.append(p0, k0)"
   ]
  },
  {
   "cell_type": "code",
   "execution_count": 6,
   "metadata": {},
   "outputs": [
    {
     "output_type": "execute_result",
     "data": {
      "text/plain": "array([  200.,     0.,     0.,     0.,   200.,   200.,   200.,   200.,\n         200.,   200.,   200.,     0.,   200.,   200.,   200.,   200.,\n         200.,   200.,   200.,   200.,     0.,   200.,   200.,   200.,\n         200.,   200.,   200.,   200.,   200.,   200.,   200.,   200.,\n         200.,   200.,   200.,   200.,   200.,   200.,   200.,   200.,\n       -8400.,     0.,     0.,     0.,     0.,     0.,     0.,     0.,\n           0.,     0.,     0.,     0.,     0.,     0.,     0.,     0.,\n           0.,     0.,     0.,     0.,     0.,     0.,     0.,     0.,\n           0.,     0.,     0.,     0.,     0.,     0.,     0.,     0.,\n           0.,     0.,     0.,   200.,   200.,     0.,   200.,   200.,\n         200.,   200.,   200.])"
     },
     "metadata": {},
     "execution_count": 6
    }
   ],
   "source": [
    "m.f(p = p, t = t, theta = k)"
   ]
  },
  {
   "cell_type": "code",
   "execution_count": 7,
   "metadata": {},
   "outputs": [],
   "source": [
    "data = m.forward(u0=u0, t=t)"
   ]
  },
  {
   "cell_type": "code",
   "execution_count": 8,
   "metadata": {},
   "outputs": [],
   "source": [
    "problem = InferenceProblem(inference='VB', model=m, data = data, t=t, init_means=u_0)"
   ]
  },
  {
   "cell_type": "code",
   "execution_count": 9,
   "metadata": {
    "tags": []
   },
   "outputs": [],
   "source": [
    "fi = fit(problem)"
   ]
  }
 ]
}