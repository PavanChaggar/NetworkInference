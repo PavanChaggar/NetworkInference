{
 "metadata": {
  "language_info": {
   "codemirror_mode": {
    "name": "ipython",
    "version": 3
   },
   "file_extension": ".py",
   "mimetype": "text/x-python",
   "name": "python",
   "nbconvert_exporter": "python",
   "pygments_lexer": "ipython3",
   "version": "3.6.9-final"
  },
  "orig_nbformat": 2,
  "kernelspec": {
   "name": "python_defaultSpec_1600183778864",
   "display_name": "Python 3.6.9 64-bit ('env': venv)"
  }
 },
 "nbformat": 4,
 "nbformat_minor": 2,
 "cells": [
  {
   "cell_type": "code",
   "execution_count": 1,
   "metadata": {},
   "outputs": [],
   "source": [
    "import numpy as np\n",
    "from netwin import *\n",
    "import os\n",
    "from scipy.integrate import odeint\n",
    "import matplotlib.pyplot as plt"
   ]
  },
  {
   "cell_type": "code",
   "execution_count": 2,
   "metadata": {},
   "outputs": [],
   "source": [
    "root_dir = '/home/chaggar/Documents/Network_Inference'\n",
    "graph_path = os.path.join(root_dir, 'data/brain_networks/scale1.csv')\n"
   ]
  },
  {
   "cell_type": "code",
   "execution_count": 3,
   "metadata": {},
   "outputs": [],
   "source": [
    "class NetworkDiffusion(Model):\n",
    "\n",
    "    def f(self, p, t, theta):\n",
    "        k = theta\n",
    "        du = k * (np.matmul(-self.L, p))\n",
    "        return du\n",
    "\n",
    "    def solve(self, p, t, theta):\n",
    "        return odeint(self.f, p, t, args=(theta,))\n",
    "\n",
    "    def forward(self, u0, t): \n",
    "        p = np.exp(u0[:-1])\n",
    "        theta = u0[-1]\n",
    "        #\n",
    "        # print(u0)\n",
    "        u = self.solve(p, t, theta) \n",
    "        return u.T "
   ]
  },
  {
   "cell_type": "code",
   "execution_count": 4,
   "metadata": {},
   "outputs": [],
   "source": [
    "m = NetworkDiffusion(network_path=graph_path)"
   ]
  },
  {
   "cell_type": "code",
   "execution_count": 5,
   "metadata": {},
   "outputs": [],
   "source": [
    "p = np.zeros([83])\n",
    "p[40] = 40\n",
    "k = 5\n",
    "\n",
    "u0 = np.append(np.log(p), k)\n",
    "params = m.L\n",
    "\n",
    "t = np.linspace(0,1,100)\n",
    "\n",
    "p0 = np.ones([83])\n",
    "k0 = 1\n",
    "\n",
    "u_0 = np.append(p0, k0)"
   ]
  },
  {
   "cell_type": "code",
   "execution_count": 6,
   "metadata": {},
   "outputs": [
    {
     "output_type": "execute_result",
     "data": {
      "text/plain": "array([  200.,     0.,     0.,     0.,   200.,   200.,   200.,   200.,\n         200.,   200.,   200.,     0.,   200.,   200.,   200.,   200.,\n         200.,   200.,   200.,   200.,     0.,   200.,   200.,   200.,\n         200.,   200.,   200.,   200.,   200.,   200.,   200.,   200.,\n         200.,   200.,   200.,   200.,   200.,   200.,   200.,   200.,\n       -8400.,     0.,     0.,     0.,     0.,     0.,     0.,     0.,\n           0.,     0.,     0.,     0.,     0.,     0.,     0.,     0.,\n           0.,     0.,     0.,     0.,     0.,     0.,     0.,     0.,\n           0.,     0.,     0.,     0.,     0.,     0.,     0.,     0.,\n           0.,     0.,     0.,   200.,   200.,     0.,   200.,   200.,\n         200.,   200.,   200.])"
     },
     "metadata": {},
     "execution_count": 6
    }
   ],
   "source": [
    "theta = k\n",
    "m.f(p = p, t = t, theta = theta)"
   ]
  },
  {
   "cell_type": "code",
   "execution_count": 7,
   "metadata": {},
   "outputs": [],
   "source": [
    "data = m.forward(u0=u0, t=t)"
   ]
  },
  {
   "cell_type": "code",
   "execution_count": 8,
   "metadata": {},
   "outputs": [],
   "source": [
    "problem = InferenceProblem(inference='VB', model=m, data = data, t=t, init_means=u_0)"
   ]
  },
  {
   "cell_type": "code",
   "execution_count": 10,
   "metadata": {
    "tags": []
   },
   "outputs": [],
   "source": [
    "fi = fit(problem)"
   ]
  },
  {
   "cell_type": "code",
   "execution_count": 12,
   "metadata": {},
   "outputs": [
    {
     "output_type": "execute_result",
     "data": {
      "text/plain": "array([2.18523334e-03, 2.42844165e-03, 6.33115193e-04, 4.37602420e-04,\n       7.90517768e-04, 2.50550177e-03, 1.23712018e-03, 4.63649470e-04,\n       2.44493584e-03, 9.55614564e-04, 3.13750448e-04, 5.83335497e-04,\n       3.07824972e-04, 2.48470256e-04, 3.93211405e-04, 8.84809856e-04,\n       4.86796643e-04, 2.56397382e-03, 1.57839024e-03, 9.22563312e-04,\n       3.17777171e-03, 2.33234861e-04, 1.25240768e-03, 1.48954749e-03,\n       2.53826548e-03, 1.18412630e-03, 1.37336060e-03, 4.29413486e-04,\n       1.14198025e-03, 2.10328215e-04, 1.89904811e-03, 1.83918970e-03,\n       3.29784561e-03, 4.66171806e-04, 1.88449808e-03, 2.28997906e-04,\n       2.25784856e-03, 2.84795894e-03, 1.84688676e-04, 4.78924436e-04,\n       3.99831459e+01, 3.15835117e-04, 5.19103308e-04, 4.42249642e-04,\n       2.67822149e-03, 5.29645795e-04, 8.36834300e-04, 3.14413007e-04,\n       3.02485012e-04, 3.50683326e-04, 6.19078156e-04, 4.15659767e-04,\n       1.70954549e-03, 1.56933079e-03, 2.53315665e-04, 3.86389865e-03,\n       3.89118135e-03, 3.42942443e-04, 3.55770590e-03, 8.35427802e-04,\n       3.62657910e-03, 8.66053243e-04, 3.14797707e-03, 3.17101925e-04,\n       2.47888919e-04, 1.45947185e-03, 3.45293498e-03, 2.03978419e-03,\n       2.40975482e-03, 5.58172826e-04, 3.38118477e-03, 2.84573617e-03,\n       2.64168988e-04, 2.11973941e-04, 3.72922741e-03, 2.33077783e-03,\n       1.79017886e-03, 4.26953390e-04, 6.43224933e-04, 2.48034058e-03,\n       2.15489110e-03, 7.46782549e-04, 3.88937323e-03, 1.48264140e+02])"
     },
     "metadata": {},
     "execution_count": 12
    }
   ],
   "source": [
    "np.exp(fi[0])"
   ]
  }
 ]
}