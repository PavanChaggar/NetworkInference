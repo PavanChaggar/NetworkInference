{
 "metadata": {
  "language_info": {
   "codemirror_mode": {
    "name": "ipython",
    "version": 3
   },
   "file_extension": ".py",
   "mimetype": "text/x-python",
   "name": "python",
   "nbconvert_exporter": "python",
   "pygments_lexer": "ipython3",
   "version": "3.6.9-final"
  },
  "orig_nbformat": 2,
  "kernelspec": {
   "name": "python_defaultSpec_1600247072353",
   "display_name": "Python 3.6.9 64-bit ('env': venv)"
  }
 },
 "nbformat": 4,
 "nbformat_minor": 2,
 "cells": [
  {
   "cell_type": "code",
   "execution_count": 1,
   "metadata": {},
   "outputs": [],
   "source": [
    "import numpy as np\n",
    "from netwin import *\n",
    "import os\n",
    "from scipy.integrate import odeint\n",
    "import matplotlib.pyplot as plt"
   ]
  },
  {
   "cell_type": "code",
   "execution_count": 2,
   "metadata": {},
   "outputs": [],
   "source": [
    "root_dir = '/home/chaggar/Documents/Network_Inference'\n",
    "graph_path = os.path.join(root_dir, 'data/brain_networks/scale1.csv')\n"
   ]
  },
  {
   "cell_type": "code",
   "execution_count": 3,
   "metadata": {},
   "outputs": [],
   "source": [
    "class NetworkDiffusion(Model):\n",
    "\n",
    "    def f(self, p, t, theta):\n",
    "        k = theta\n",
    "        du = k * (np.matmul(-self.L, p))\n",
    "        return du\n",
    "\n",
    "    def solve(self, p, t, theta):\n",
    "        return odeint(self.f, p, t, args=(theta,))\n",
    "\n",
    "    def forward(self, u0, t): \n",
    "        p = np.exp(u0[:-1])\n",
    "        theta = u0[-1]\n",
    "        #\n",
    "        # print(u0)\n",
    "        u = self.solve(p, t, theta) \n",
    "        return u.T "
   ]
  },
  {
   "cell_type": "code",
   "execution_count": 4,
   "metadata": {},
   "outputs": [],
   "source": [
    "m = NetworkDiffusion(network_path=graph_path)"
   ]
  },
  {
   "cell_type": "code",
   "execution_count": 5,
   "metadata": {},
   "outputs": [],
   "source": [
    "p = np.zeros([83])\n",
    "p[40] = 40\n",
    "k = 5\n",
    "\n",
    "u0 = np.append(np.log(p), k)\n",
    "\n",
    "t = np.linspace(0,1,100)\n",
    "\n",
    "p0 = np.ones([83])\n",
    "k0 = 1\n",
    "\n",
    "u_0 = np.append(p0, k0)"
   ]
  },
  {
   "cell_type": "code",
   "execution_count": 6,
   "metadata": {},
   "outputs": [
    {
     "output_type": "execute_result",
     "data": {
      "text/plain": "array([  200.,     0.,     0.,     0.,   200.,   200.,   200.,   200.,\n         200.,   200.,   200.,     0.,   200.,   200.,   200.,   200.,\n         200.,   200.,   200.,   200.,     0.,   200.,   200.,   200.,\n         200.,   200.,   200.,   200.,   200.,   200.,   200.,   200.,\n         200.,   200.,   200.,   200.,   200.,   200.,   200.,   200.,\n       -8400.,     0.,     0.,     0.,     0.,     0.,     0.,     0.,\n           0.,     0.,     0.,     0.,     0.,     0.,     0.,     0.,\n           0.,     0.,     0.,     0.,     0.,     0.,     0.,     0.,\n           0.,     0.,     0.,     0.,     0.,     0.,     0.,     0.,\n           0.,     0.,     0.,   200.,   200.,     0.,   200.,   200.,\n         200.,   200.,   200.])"
     },
     "metadata": {},
     "execution_count": 6
    }
   ],
   "source": [
    "m.f(p = p, t = t, theta = k)"
   ]
  },
  {
   "cell_type": "code",
   "execution_count": 7,
   "metadata": {},
   "outputs": [],
   "source": [
    "data = m.forward(u0=u0, t=t)"
   ]
  },
  {
   "cell_type": "code",
   "execution_count": 8,
   "metadata": {},
   "outputs": [],
   "source": [
    "problem = InferenceProblem(inference='VB', model=m, data = data, t=t, init_means=u_0)"
   ]
  },
  {
   "cell_type": "code",
   "execution_count": 9,
   "metadata": {
    "tags": []
   },
   "outputs": [],
   "source": [
    "fi = fit(problem)"
   ]
  },
  {
   "cell_type": "code",
   "execution_count": 13,
   "metadata": {},
   "outputs": [
    {
     "output_type": "display_data",
     "data": {
      "application/vnd.plotly.v1+json": {
       "config": {
        "plotlyServerURL": "https://plot.ly"
       },
       "data": [
        {
         "hoverinfo": "text",
         "marker": {
          "color": [
           0.8163157542375051,
           0.8081830512285114,
           0.6454855596480168,
           0.8092911704830993,
           0.8134983089820946,
           0.819498602323307,
           0.8131381725331354,
           0.8135180015239063,
           0.8170976489292054,
           0.8161437978909456,
           0.8220980091395829,
           0.8020627884269559,
           0.8116607235463085,
           0.8129504744591869,
           0.8098507958624016,
           0.8195367366739821,
           0.8177293321711226,
           0.8178511620204147,
           0.8277483479688101,
           0.819780909591145,
           0.8298004908715774,
           0.838475706431352,
           0.8350288046601607,
           0.8242684640815677,
           0.8533319045943948,
           0.8495431112313225,
           0.9714883536294877,
           1,
           0.8530150634411533,
           0.8556687794803514,
           0.8420121255878469,
           0.8452834264828142,
           0.8466845083105614,
           0.8200979731292877,
           0.8084294140711973,
           0.8070261049426377,
           0.817079949005131,
           0.8206797355707962,
           0.810686895123285,
           0.8170561324403541,
           0.8537773786368409,
           0.7753552974100997,
           0.6911771138720857,
           0.5739784128324574,
           0.7677488911256445,
           0.7807224394356506,
           0.7905401194924808,
           0.7900255239416345,
           0.788676089098835,
           0.7936898806291242,
           0.7939543554621744,
           0.7922333463758203,
           0.790337863455178,
           0.8014238757691904,
           0.8001253156759677,
           0.8041915000091413,
           0.7887810264888916,
           0.7868418157618573,
           0.8013608971813148,
           0.7929880493091548,
           0.7980479217665981,
           0.7862264021315133,
           0.7847599733044,
           0.7875456503542111,
           0.7911043637998568,
           0.7729005272124722,
           0.7736603982671063,
           0.6916938183862171,
           0.6831751160275245,
           0.7702423231513955,
           0.7720879251926185,
           0.7796233859306189,
           0.7841276877372115,
           0.7735723692817624,
           0.7874558883439629,
           0.8043392970155668,
           0.7974049804541317,
           0.7876806010346744,
           0.7943375706091953,
           0.8012145738576836,
           0.7989449472293525,
           0.7829699009994043,
           0.8087008016850235
          ],
          "colorscale": [
           [
            0,
            "rgb(5,48,97)"
           ],
           [
            0.1,
            "rgb(33,102,172)"
           ],
           [
            0.2,
            "rgb(67,147,195)"
           ],
           [
            0.3,
            "rgb(146,197,222)"
           ],
           [
            0.4,
            "rgb(209,229,240)"
           ],
           [
            0.5,
            "rgb(247,247,247)"
           ],
           [
            0.6,
            "rgb(253,219,199)"
           ],
           [
            0.7,
            "rgb(244,165,130)"
           ],
           [
            0.8,
            "rgb(214,96,77)"
           ],
           [
            0.9,
            "rgb(178,24,43)"
           ],
           [
            1,
            "rgb(103,0,31)"
           ]
          ],
          "line": {
           "color": "rgb(50,50,50)",
           "width": 0.5
          },
          "size": 20,
          "symbol": "circle"
         },
         "mode": "markers",
         "name": "actors",
         "text": [
          "rh.lateralorbitofrontal",
          "rh.parsorbitalis",
          "rh.frontalpole",
          "rh.medialorbitofrontal",
          "rh.parstriangularis",
          "rh.parsopercularis",
          "rh.rostralmiddlefrontal",
          "rh.superiorfrontal",
          "rh.caudalmiddlefrontal",
          "rh.precentral",
          "rh.paracentral",
          "rh.rostralanteriorcingulate",
          "rh.caudalanteriorcingulate",
          "rh.posteriorcingulate",
          "rh.isthmuscingulate",
          "rh.postcentral",
          "rh.supramarginal",
          "rh.superiorparietal",
          "rh.inferiorparietal",
          "rh.precuneus",
          "rh.cuneus",
          "rh.pericalcarine",
          "rh.lateraloccipital",
          "rh.lingual",
          "rh.fusiform",
          "rh.parahippocampal",
          "rh.entorhinal",
          "rh.temporalpole",
          "rh.inferiortemporal",
          "rh.middletemporal",
          "rh.bankssts",
          "rh.superiortemporal",
          "rh.transversetemporal",
          "rh.insula",
          "Right-Thalamus-Proper",
          "Right-Caudate",
          "Right-Putamen",
          "Right-Pallidum",
          "Right-Accumbens-area",
          "Right-Hippocampus",
          "Right-Amygdala",
          "lh.lateralorbitofrontal",
          "lh.parsorbitalis",
          "lh.frontalpole",
          "lh.medialorbitofrontal",
          "lh.parstriangularis",
          "lh.parsopercularis",
          "lh.rostralmiddlefrontal",
          "lh.superiorfrontal",
          "lh.caudalmiddlefrontal",
          "lh.precentral",
          "lh.paracentral",
          "lh.rostralanteriorcingulate",
          "lh.caudalanteriorcingulate",
          "lh.posteriorcingulate",
          "lh.isthmuscingulate",
          "lh.postcentral",
          "lh.supramarginal",
          "lh.superiorparietal",
          "lh.inferiorparietal",
          "lh.precuneus",
          "lh.cuneus",
          "lh.pericalcarine",
          "lh.lateraloccipital",
          "lh.lingual",
          "lh.fusiform",
          "lh.parahippocampal",
          "lh.entorhinal",
          "lh.temporalpole",
          "lh.inferiortemporal",
          "lh.middletemporal",
          "lh.bankssts",
          "lh.superiortemporal",
          "lh.transversetemporal",
          "lh.insula",
          "Left-Thalamus-Proper",
          "Left-Caudate",
          "Left-Putamen",
          "Left-Pallidum",
          "Left-Accumbens-area",
          "Left-Hippocampus",
          "Left-Amygdala",
          "Brain-Stem"
         ],
         "type": "scatter3d",
         "x": [
          25.005746536685482,
          43.78909196402668,
          9.595789473684206,
          5.7989974937343325,
          48.39928839691638,
          48.18627661862765,
          33.75038644300682,
          10.978598253472695,
          37.090145985401456,
          43.13576514190967,
          7.869121140142511,
          6.376789751318767,
          5.578373847443416,
          5.761144744083651,
          7.733489775393893,
          47.91148825065275,
          55.695857764327606,
          25.562516709740663,
          44.92247172594657,
          9.751682368775237,
          6.561889250814332,
          7.6939266386049345,
          33.85011035409269,
          -1,
          34.315741081279896,
          25.042525208242,
          23.986129753914994,
          30.974225122349097,
          51.17753477526736,
          58.72162594199588,
          55.88045903729679,
          54.114259941366605,
          45.479069767441864,
          37.45914101102244,
          11.576144532727964,
          14.022773902338939,
          26.464319695528058,
          21.443287467460024,
          9.618357487922706,
          26.54352296093215,
          23.59185480301018,
          -24.078634146341454,
          -43.18191161356629,
          -6.7318741450068424,
          -4.809914642153643,
          -47.44619799139168,
          -47.124284077892334,
          -32.9613791423002,
          -9.88433232842702,
          -35.48876499408684,
          -42.580769994046435,
          -6.470457697642161,
          -5.482747395833329,
          -4.826798793623438,
          -4.973945409429277,
          -6.779677737586327,
          -47.10396597022394,
          -55.42012201426947,
          -24.52227151730257,
          -43.51810632651314,
          -8.792065663474688,
          -7.006424965580536,
          -9.405372405372404,
          -31.030093032086587,
          -15.113546936481173,
          -33.8983680250171,
          -25.1254851228978,
          -24.585448392554998,
          -28.238879260543047,
          -51.03323408706847,
          -57.70202566877997,
          -53.87681940700809,
          -52.749925838030265,
          -44.509746588693964,
          -36.64277530235519,
          -11.313992861718676,
          -13.070125658694778,
          -25.538640235403435,
          -20.29076396807298,
          -8.141025641025635,
          -25.50008382229673,
          -22.71827057182707,
          -6.0779644198738385
         ],
         "y": [
          33.4624935864546,
          41.465912387583415,
          67.34421052631579,
          40.73834586466165,
          31.85550504052185,
          14.447192944719289,
          47.59890078433617,
          33.18741233428352,
          10.222810218978113,
          -5.4114893201989664,
          -25.747980997624712,
          38.78183873398643,
          22.590108968985763,
          -16.959823885525598,
          -47.356017432115316,
          -19.13812010443864,
          -33.65585398146396,
          -62.70439354781213,
          -64.24233732175054,
          -59.08664199192464,
          -79.68621064060804,
          -79.1815995189417,
          -86.47231551674503,
          -95.33333333333334,
          -34.94317763883781,
          -32.24331433581763,
          -3.983445190156601,
          15.017944535073411,
          -29.01929725818124,
          -20.46129253254168,
          -43.82371692700032,
          -7.419679771480119,
          -20.831395348837205,
          1.4174585075383277,
          -18.754351116155892,
          9.059294214197793,
          1.3693307960672314,
          -5.0345853477129054,
          11.916666666666654,
          -23.5195339273475,
          -5.093846834882697,
          33.89482926829268,
          39.945529290853045,
          67.75239398084815,
          40.47603414313855,
          32.22190339550454,
          15.819969453990069,
          47.5093201754386,
          31.958015605603837,
          11.53471870248353,
          -5.498412383409402,
          -27.931206657420248,
          38.09147135416666,
          20.283929340801365,
          -19.26575682382133,
          -47.57546859585662,
          -19.940072563493057,
          -35.34846448143935,
          -62.87613132209405,
          -66.02200154096397,
          -59.49204856361149,
          -78.46351537402478,
          -75.12026862026862,
          -87.27900132902981,
          -64.44069702079821,
          -35.85615166617804,
          -30.975420439844758,
          -6.357445008460232,
          13.247255921432695,
          -30.228534642311107,
          -19.00726766661512,
          -43.49919137466307,
          -6.690225452388019,
          -20.813840155945414,
          0.5928707829407927,
          -19.06415301546627,
          9.085123631941627,
          0.6730679882298318,
          -5.292664386164958,
          11.415954415954413,
          -22.66219614417434,
          -5.119944211994422,
          -31.50152385002481
         ],
         "z": [
          -16.65079527963058,
          -11.845082680591814,
          -8.942105263157899,
          -15.716624895572266,
          5.604269618501675,
          13.449559044955905,
          16.782446899868322,
          39.723315687072976,
          46.988686131386864,
          39.884131473715016,
          55.49881235154393,
          2.5406932931424246,
          26.666806370494555,
          38.97660979636764,
          20.763325511230303,
          40.378198433420366,
          32.80470966521656,
          52.29257641921397,
          34.700131126044916,
          38.39333781965007,
          24.155266015200862,
          7.6253758268189955,
          1.078015545533063,
          -13.333333333333336,
          -24.977013607944087,
          -17.452871547566858,
          -32.59552572706935,
          -35.34975530179445,
          -25.078555921846103,
          -14.460150719342316,
          9.95887790883009,
          -5.823949485078558,
          9.926744186046506,
          0.7317876599518627,
          7.514661369655697,
          10.528313500205172,
          0.6181414525848368,
          -0.3633320937151296,
          -6.359903381642512,
          -13.07333790267306,
          -19.094732182381588,
          -16.320487804878052,
          -12.629667694415893,
          -7.797537619699042,
          -15.430400525279055,
          3.796508847441416,
          14.008781977854142,
          16.518396686159846,
          40.45726192587338,
          46.368136509545536,
          39.24528676324668,
          56.957004160887664,
          3.7327473958333286,
          28.4489444205084,
          39.15037220843672,
          20.748766853008878,
          40.69748529963718,
          34.48112914900217,
          51.89299023957409,
          33.79847615786319,
          38.40937072503419,
          24.535566773749427,
          8.74236874236874,
          -0.10603759255742773,
          -4.642683155330714,
          -24.985341542069772,
          -18.728762397585164,
          -32.684856175972925,
          -36.924032351242055,
          -24.63796571980365,
          -15.643033864233802,
          8.757951482479783,
          -5.973894986650847,
          9.400584795321636,
          1.7402928071292223,
          7.391415759128763,
          10.973449533846777,
          0.9464147436890188,
          -0.09730140630938422,
          -6.320512820512817,
          -13.692372170997489,
          -18.83635518363552,
          -32.853923027854556
         ]
        }
       ],
       "layout": {
        "height": 500,
        "hovermode": "closest",
        "margin": {
         "t": 100
        },
        "scene": {
         "xaxis": {
          "showbackground": false,
          "showgrid": false,
          "showline": false,
          "showticklabels": false,
          "title": {
           "text": ""
          },
          "zeroline": false
         },
         "yaxis": {
          "showbackground": false,
          "showgrid": false,
          "showline": false,
          "showticklabels": false,
          "title": {
           "text": ""
          },
          "zeroline": false
         },
         "zaxis": {
          "showbackground": false,
          "showgrid": false,
          "showline": false,
          "showticklabels": false,
          "title": {
           "text": ""
          },
          "zeroline": false
         }
        },
        "showlegend": false,
        "template": {
         "data": {
          "bar": [
           {
            "error_x": {
             "color": "#2a3f5f"
            },
            "error_y": {
             "color": "#2a3f5f"
            },
            "marker": {
             "line": {
              "color": "#E5ECF6",
              "width": 0.5
             }
            },
            "type": "bar"
           }
          ],
          "barpolar": [
           {
            "marker": {
             "line": {
              "color": "#E5ECF6",
              "width": 0.5
             }
            },
            "type": "barpolar"
           }
          ],
          "carpet": [
           {
            "aaxis": {
             "endlinecolor": "#2a3f5f",
             "gridcolor": "white",
             "linecolor": "white",
             "minorgridcolor": "white",
             "startlinecolor": "#2a3f5f"
            },
            "baxis": {
             "endlinecolor": "#2a3f5f",
             "gridcolor": "white",
             "linecolor": "white",
             "minorgridcolor": "white",
             "startlinecolor": "#2a3f5f"
            },
            "type": "carpet"
           }
          ],
          "choropleth": [
           {
            "colorbar": {
             "outlinewidth": 0,
             "ticks": ""
            },
            "type": "choropleth"
           }
          ],
          "contour": [
           {
            "colorbar": {
             "outlinewidth": 0,
             "ticks": ""
            },
            "colorscale": [
             [
              0,
              "#0d0887"
             ],
             [
              0.1111111111111111,
              "#46039f"
             ],
             [
              0.2222222222222222,
              "#7201a8"
             ],
             [
              0.3333333333333333,
              "#9c179e"
             ],
             [
              0.4444444444444444,
              "#bd3786"
             ],
             [
              0.5555555555555556,
              "#d8576b"
             ],
             [
              0.6666666666666666,
              "#ed7953"
             ],
             [
              0.7777777777777778,
              "#fb9f3a"
             ],
             [
              0.8888888888888888,
              "#fdca26"
             ],
             [
              1,
              "#f0f921"
             ]
            ],
            "type": "contour"
           }
          ],
          "contourcarpet": [
           {
            "colorbar": {
             "outlinewidth": 0,
             "ticks": ""
            },
            "type": "contourcarpet"
           }
          ],
          "heatmap": [
           {
            "colorbar": {
             "outlinewidth": 0,
             "ticks": ""
            },
            "colorscale": [
             [
              0,
              "#0d0887"
             ],
             [
              0.1111111111111111,
              "#46039f"
             ],
             [
              0.2222222222222222,
              "#7201a8"
             ],
             [
              0.3333333333333333,
              "#9c179e"
             ],
             [
              0.4444444444444444,
              "#bd3786"
             ],
             [
              0.5555555555555556,
              "#d8576b"
             ],
             [
              0.6666666666666666,
              "#ed7953"
             ],
             [
              0.7777777777777778,
              "#fb9f3a"
             ],
             [
              0.8888888888888888,
              "#fdca26"
             ],
             [
              1,
              "#f0f921"
             ]
            ],
            "type": "heatmap"
           }
          ],
          "heatmapgl": [
           {
            "colorbar": {
             "outlinewidth": 0,
             "ticks": ""
            },
            "colorscale": [
             [
              0,
              "#0d0887"
             ],
             [
              0.1111111111111111,
              "#46039f"
             ],
             [
              0.2222222222222222,
              "#7201a8"
             ],
             [
              0.3333333333333333,
              "#9c179e"
             ],
             [
              0.4444444444444444,
              "#bd3786"
             ],
             [
              0.5555555555555556,
              "#d8576b"
             ],
             [
              0.6666666666666666,
              "#ed7953"
             ],
             [
              0.7777777777777778,
              "#fb9f3a"
             ],
             [
              0.8888888888888888,
              "#fdca26"
             ],
             [
              1,
              "#f0f921"
             ]
            ],
            "type": "heatmapgl"
           }
          ],
          "histogram": [
           {
            "marker": {
             "colorbar": {
              "outlinewidth": 0,
              "ticks": ""
             }
            },
            "type": "histogram"
           }
          ],
          "histogram2d": [
           {
            "colorbar": {
             "outlinewidth": 0,
             "ticks": ""
            },
            "colorscale": [
             [
              0,
              "#0d0887"
             ],
             [
              0.1111111111111111,
              "#46039f"
             ],
             [
              0.2222222222222222,
              "#7201a8"
             ],
             [
              0.3333333333333333,
              "#9c179e"
             ],
             [
              0.4444444444444444,
              "#bd3786"
             ],
             [
              0.5555555555555556,
              "#d8576b"
             ],
             [
              0.6666666666666666,
              "#ed7953"
             ],
             [
              0.7777777777777778,
              "#fb9f3a"
             ],
             [
              0.8888888888888888,
              "#fdca26"
             ],
             [
              1,
              "#f0f921"
             ]
            ],
            "type": "histogram2d"
           }
          ],
          "histogram2dcontour": [
           {
            "colorbar": {
             "outlinewidth": 0,
             "ticks": ""
            },
            "colorscale": [
             [
              0,
              "#0d0887"
             ],
             [
              0.1111111111111111,
              "#46039f"
             ],
             [
              0.2222222222222222,
              "#7201a8"
             ],
             [
              0.3333333333333333,
              "#9c179e"
             ],
             [
              0.4444444444444444,
              "#bd3786"
             ],
             [
              0.5555555555555556,
              "#d8576b"
             ],
             [
              0.6666666666666666,
              "#ed7953"
             ],
             [
              0.7777777777777778,
              "#fb9f3a"
             ],
             [
              0.8888888888888888,
              "#fdca26"
             ],
             [
              1,
              "#f0f921"
             ]
            ],
            "type": "histogram2dcontour"
           }
          ],
          "mesh3d": [
           {
            "colorbar": {
             "outlinewidth": 0,
             "ticks": ""
            },
            "type": "mesh3d"
           }
          ],
          "parcoords": [
           {
            "line": {
             "colorbar": {
              "outlinewidth": 0,
              "ticks": ""
             }
            },
            "type": "parcoords"
           }
          ],
          "pie": [
           {
            "automargin": true,
            "type": "pie"
           }
          ],
          "scatter": [
           {
            "marker": {
             "colorbar": {
              "outlinewidth": 0,
              "ticks": ""
             }
            },
            "type": "scatter"
           }
          ],
          "scatter3d": [
           {
            "line": {
             "colorbar": {
              "outlinewidth": 0,
              "ticks": ""
             }
            },
            "marker": {
             "colorbar": {
              "outlinewidth": 0,
              "ticks": ""
             }
            },
            "type": "scatter3d"
           }
          ],
          "scattercarpet": [
           {
            "marker": {
             "colorbar": {
              "outlinewidth": 0,
              "ticks": ""
             }
            },
            "type": "scattercarpet"
           }
          ],
          "scattergeo": [
           {
            "marker": {
             "colorbar": {
              "outlinewidth": 0,
              "ticks": ""
             }
            },
            "type": "scattergeo"
           }
          ],
          "scattergl": [
           {
            "marker": {
             "colorbar": {
              "outlinewidth": 0,
              "ticks": ""
             }
            },
            "type": "scattergl"
           }
          ],
          "scattermapbox": [
           {
            "marker": {
             "colorbar": {
              "outlinewidth": 0,
              "ticks": ""
             }
            },
            "type": "scattermapbox"
           }
          ],
          "scatterpolar": [
           {
            "marker": {
             "colorbar": {
              "outlinewidth": 0,
              "ticks": ""
             }
            },
            "type": "scatterpolar"
           }
          ],
          "scatterpolargl": [
           {
            "marker": {
             "colorbar": {
              "outlinewidth": 0,
              "ticks": ""
             }
            },
            "type": "scatterpolargl"
           }
          ],
          "scatterternary": [
           {
            "marker": {
             "colorbar": {
              "outlinewidth": 0,
              "ticks": ""
             }
            },
            "type": "scatterternary"
           }
          ],
          "surface": [
           {
            "colorbar": {
             "outlinewidth": 0,
             "ticks": ""
            },
            "colorscale": [
             [
              0,
              "#0d0887"
             ],
             [
              0.1111111111111111,
              "#46039f"
             ],
             [
              0.2222222222222222,
              "#7201a8"
             ],
             [
              0.3333333333333333,
              "#9c179e"
             ],
             [
              0.4444444444444444,
              "#bd3786"
             ],
             [
              0.5555555555555556,
              "#d8576b"
             ],
             [
              0.6666666666666666,
              "#ed7953"
             ],
             [
              0.7777777777777778,
              "#fb9f3a"
             ],
             [
              0.8888888888888888,
              "#fdca26"
             ],
             [
              1,
              "#f0f921"
             ]
            ],
            "type": "surface"
           }
          ],
          "table": [
           {
            "cells": {
             "fill": {
              "color": "#EBF0F8"
             },
             "line": {
              "color": "white"
             }
            },
            "header": {
             "fill": {
              "color": "#C8D4E3"
             },
             "line": {
              "color": "white"
             }
            },
            "type": "table"
           }
          ]
         },
         "layout": {
          "annotationdefaults": {
           "arrowcolor": "#2a3f5f",
           "arrowhead": 0,
           "arrowwidth": 1
          },
          "coloraxis": {
           "colorbar": {
            "outlinewidth": 0,
            "ticks": ""
           }
          },
          "colorscale": {
           "diverging": [
            [
             0,
             "#8e0152"
            ],
            [
             0.1,
             "#c51b7d"
            ],
            [
             0.2,
             "#de77ae"
            ],
            [
             0.3,
             "#f1b6da"
            ],
            [
             0.4,
             "#fde0ef"
            ],
            [
             0.5,
             "#f7f7f7"
            ],
            [
             0.6,
             "#e6f5d0"
            ],
            [
             0.7,
             "#b8e186"
            ],
            [
             0.8,
             "#7fbc41"
            ],
            [
             0.9,
             "#4d9221"
            ],
            [
             1,
             "#276419"
            ]
           ],
           "sequential": [
            [
             0,
             "#0d0887"
            ],
            [
             0.1111111111111111,
             "#46039f"
            ],
            [
             0.2222222222222222,
             "#7201a8"
            ],
            [
             0.3333333333333333,
             "#9c179e"
            ],
            [
             0.4444444444444444,
             "#bd3786"
            ],
            [
             0.5555555555555556,
             "#d8576b"
            ],
            [
             0.6666666666666666,
             "#ed7953"
            ],
            [
             0.7777777777777778,
             "#fb9f3a"
            ],
            [
             0.8888888888888888,
             "#fdca26"
            ],
            [
             1,
             "#f0f921"
            ]
           ],
           "sequentialminus": [
            [
             0,
             "#0d0887"
            ],
            [
             0.1111111111111111,
             "#46039f"
            ],
            [
             0.2222222222222222,
             "#7201a8"
            ],
            [
             0.3333333333333333,
             "#9c179e"
            ],
            [
             0.4444444444444444,
             "#bd3786"
            ],
            [
             0.5555555555555556,
             "#d8576b"
            ],
            [
             0.6666666666666666,
             "#ed7953"
            ],
            [
             0.7777777777777778,
             "#fb9f3a"
            ],
            [
             0.8888888888888888,
             "#fdca26"
            ],
            [
             1,
             "#f0f921"
            ]
           ]
          },
          "colorway": [
           "#636efa",
           "#EF553B",
           "#00cc96",
           "#ab63fa",
           "#FFA15A",
           "#19d3f3",
           "#FF6692",
           "#B6E880",
           "#FF97FF",
           "#FECB52"
          ],
          "font": {
           "color": "#2a3f5f"
          },
          "geo": {
           "bgcolor": "white",
           "lakecolor": "white",
           "landcolor": "#E5ECF6",
           "showlakes": true,
           "showland": true,
           "subunitcolor": "white"
          },
          "hoverlabel": {
           "align": "left"
          },
          "hovermode": "closest",
          "mapbox": {
           "style": "light"
          },
          "paper_bgcolor": "white",
          "plot_bgcolor": "#E5ECF6",
          "polar": {
           "angularaxis": {
            "gridcolor": "white",
            "linecolor": "white",
            "ticks": ""
           },
           "bgcolor": "#E5ECF6",
           "radialaxis": {
            "gridcolor": "white",
            "linecolor": "white",
            "ticks": ""
           }
          },
          "scene": {
           "xaxis": {
            "backgroundcolor": "#E5ECF6",
            "gridcolor": "white",
            "gridwidth": 2,
            "linecolor": "white",
            "showbackground": true,
            "ticks": "",
            "zerolinecolor": "white"
           },
           "yaxis": {
            "backgroundcolor": "#E5ECF6",
            "gridcolor": "white",
            "gridwidth": 2,
            "linecolor": "white",
            "showbackground": true,
            "ticks": "",
            "zerolinecolor": "white"
           },
           "zaxis": {
            "backgroundcolor": "#E5ECF6",
            "gridcolor": "white",
            "gridwidth": 2,
            "linecolor": "white",
            "showbackground": true,
            "ticks": "",
            "zerolinecolor": "white"
           }
          },
          "shapedefaults": {
           "line": {
            "color": "#2a3f5f"
           }
          },
          "ternary": {
           "aaxis": {
            "gridcolor": "white",
            "linecolor": "white",
            "ticks": ""
           },
           "baxis": {
            "gridcolor": "white",
            "linecolor": "white",
            "ticks": ""
           },
           "bgcolor": "#E5ECF6",
           "caxis": {
            "gridcolor": "white",
            "linecolor": "white",
            "ticks": ""
           }
          },
          "title": {
           "x": 0.05
          },
          "xaxis": {
           "automargin": true,
           "gridcolor": "white",
           "linecolor": "white",
           "ticks": "",
           "title": {
            "standoff": 15
           },
           "zerolinecolor": "white",
           "zerolinewidth": 2
          },
          "yaxis": {
           "automargin": true,
           "gridcolor": "white",
           "linecolor": "white",
           "ticks": "",
           "title": {
            "standoff": 15
           },
           "zerolinecolor": "white",
           "zerolinewidth": 2
          }
         }
        },
        "title": {
         "text": "Connectome"
        },
        "width": 1000
       }
      },
      "text/html": "<div>\n        \n        \n            <div id=\"5b0951b8-a764-4bec-8cb3-5c0a5358f806\" class=\"plotly-graph-div\" style=\"height:500px; width:1000px;\"></div>\n            <script type=\"text/javascript\">\n                require([\"plotly\"], function(Plotly) {\n                    window.PLOTLYENV=window.PLOTLYENV || {};\n                    \n                if (document.getElementById(\"5b0951b8-a764-4bec-8cb3-5c0a5358f806\")) {\n                    Plotly.newPlot(\n                        '5b0951b8-a764-4bec-8cb3-5c0a5358f806',\n                        [{\"hoverinfo\": \"text\", \"marker\": {\"color\": [0.8163157542375051, 0.8081830512285114, 0.6454855596480168, 0.8092911704830993, 0.8134983089820946, 0.819498602323307, 0.8131381725331354, 0.8135180015239063, 0.8170976489292054, 0.8161437978909456, 0.8220980091395829, 0.8020627884269559, 0.8116607235463085, 0.8129504744591869, 0.8098507958624016, 0.8195367366739821, 0.8177293321711226, 0.8178511620204147, 0.8277483479688101, 0.819780909591145, 0.8298004908715774, 0.838475706431352, 0.8350288046601607, 0.8242684640815677, 0.8533319045943948, 0.8495431112313225, 0.9714883536294877, 1.0, 0.8530150634411533, 0.8556687794803514, 0.8420121255878469, 0.8452834264828142, 0.8466845083105614, 0.8200979731292877, 0.8084294140711973, 0.8070261049426377, 0.817079949005131, 0.8206797355707962, 0.810686895123285, 0.8170561324403541, 0.8537773786368409, 0.7753552974100997, 0.6911771138720857, 0.5739784128324574, 0.7677488911256445, 0.7807224394356506, 0.7905401194924808, 0.7900255239416345, 0.788676089098835, 0.7936898806291242, 0.7939543554621744, 0.7922333463758203, 0.790337863455178, 0.8014238757691904, 0.8001253156759677, 0.8041915000091413, 0.7887810264888916, 0.7868418157618573, 0.8013608971813148, 0.7929880493091548, 0.7980479217665981, 0.7862264021315133, 0.7847599733044, 0.7875456503542111, 0.7911043637998568, 0.7729005272124722, 0.7736603982671063, 0.6916938183862171, 0.6831751160275245, 0.7702423231513955, 0.7720879251926185, 0.7796233859306189, 0.7841276877372115, 0.7735723692817624, 0.7874558883439629, 0.8043392970155668, 0.7974049804541317, 0.7876806010346744, 0.7943375706091953, 0.8012145738576836, 0.7989449472293525, 0.7829699009994043, 0.8087008016850235], \"colorscale\": [[0.0, \"rgb(5,48,97)\"], [0.1, \"rgb(33,102,172)\"], [0.2, \"rgb(67,147,195)\"], [0.3, \"rgb(146,197,222)\"], [0.4, \"rgb(209,229,240)\"], [0.5, \"rgb(247,247,247)\"], [0.6, \"rgb(253,219,199)\"], [0.7, \"rgb(244,165,130)\"], [0.8, \"rgb(214,96,77)\"], [0.9, \"rgb(178,24,43)\"], [1.0, \"rgb(103,0,31)\"]], \"line\": {\"color\": \"rgb(50,50,50)\", \"width\": 0.5}, \"size\": 20, \"symbol\": \"circle\"}, \"mode\": \"markers\", \"name\": \"actors\", \"text\": [\"rh.lateralorbitofrontal\", \"rh.parsorbitalis\", \"rh.frontalpole\", \"rh.medialorbitofrontal\", \"rh.parstriangularis\", \"rh.parsopercularis\", \"rh.rostralmiddlefrontal\", \"rh.superiorfrontal\", \"rh.caudalmiddlefrontal\", \"rh.precentral\", \"rh.paracentral\", \"rh.rostralanteriorcingulate\", \"rh.caudalanteriorcingulate\", \"rh.posteriorcingulate\", \"rh.isthmuscingulate\", \"rh.postcentral\", \"rh.supramarginal\", \"rh.superiorparietal\", \"rh.inferiorparietal\", \"rh.precuneus\", \"rh.cuneus\", \"rh.pericalcarine\", \"rh.lateraloccipital\", \"rh.lingual\", \"rh.fusiform\", \"rh.parahippocampal\", \"rh.entorhinal\", \"rh.temporalpole\", \"rh.inferiortemporal\", \"rh.middletemporal\", \"rh.bankssts\", \"rh.superiortemporal\", \"rh.transversetemporal\", \"rh.insula\", \"Right-Thalamus-Proper\", \"Right-Caudate\", \"Right-Putamen\", \"Right-Pallidum\", \"Right-Accumbens-area\", \"Right-Hippocampus\", \"Right-Amygdala\", \"lh.lateralorbitofrontal\", \"lh.parsorbitalis\", \"lh.frontalpole\", \"lh.medialorbitofrontal\", \"lh.parstriangularis\", \"lh.parsopercularis\", \"lh.rostralmiddlefrontal\", \"lh.superiorfrontal\", \"lh.caudalmiddlefrontal\", \"lh.precentral\", \"lh.paracentral\", \"lh.rostralanteriorcingulate\", \"lh.caudalanteriorcingulate\", \"lh.posteriorcingulate\", \"lh.isthmuscingulate\", \"lh.postcentral\", \"lh.supramarginal\", \"lh.superiorparietal\", \"lh.inferiorparietal\", \"lh.precuneus\", \"lh.cuneus\", \"lh.pericalcarine\", \"lh.lateraloccipital\", \"lh.lingual\", \"lh.fusiform\", \"lh.parahippocampal\", \"lh.entorhinal\", \"lh.temporalpole\", \"lh.inferiortemporal\", \"lh.middletemporal\", \"lh.bankssts\", \"lh.superiortemporal\", \"lh.transversetemporal\", \"lh.insula\", \"Left-Thalamus-Proper\", \"Left-Caudate\", \"Left-Putamen\", \"Left-Pallidum\", \"Left-Accumbens-area\", \"Left-Hippocampus\", \"Left-Amygdala\", \"Brain-Stem\"], \"type\": \"scatter3d\", \"x\": [25.005746536685482, 43.78909196402668, 9.595789473684206, 5.7989974937343325, 48.39928839691638, 48.18627661862765, 33.75038644300682, 10.978598253472695, 37.090145985401456, 43.13576514190967, 7.869121140142511, 6.376789751318767, 5.578373847443416, 5.761144744083651, 7.733489775393893, 47.91148825065275, 55.695857764327606, 25.562516709740663, 44.92247172594657, 9.751682368775237, 6.561889250814332, 7.6939266386049345, 33.85011035409269, -1.0, 34.315741081279896, 25.042525208242, 23.986129753914994, 30.974225122349097, 51.17753477526736, 58.72162594199588, 55.88045903729679, 54.114259941366605, 45.479069767441864, 37.45914101102244, 11.576144532727964, 14.022773902338939, 26.464319695528058, 21.443287467460024, 9.618357487922706, 26.54352296093215, 23.59185480301018, -24.078634146341454, -43.18191161356629, -6.7318741450068424, -4.809914642153643, -47.44619799139168, -47.124284077892334, -32.9613791423002, -9.88433232842702, -35.48876499408684, -42.580769994046435, -6.470457697642161, -5.482747395833329, -4.826798793623438, -4.973945409429277, -6.779677737586327, -47.10396597022394, -55.42012201426947, -24.52227151730257, -43.51810632651314, -8.792065663474688, -7.006424965580536, -9.405372405372404, -31.030093032086587, -15.113546936481173, -33.8983680250171, -25.1254851228978, -24.585448392554998, -28.238879260543047, -51.03323408706847, -57.70202566877997, -53.87681940700809, -52.749925838030265, -44.509746588693964, -36.64277530235519, -11.313992861718676, -13.070125658694778, -25.538640235403435, -20.29076396807298, -8.141025641025635, -25.50008382229673, -22.71827057182707, -6.0779644198738385], \"y\": [33.4624935864546, 41.465912387583415, 67.34421052631579, 40.73834586466165, 31.85550504052185, 14.447192944719289, 47.59890078433617, 33.18741233428352, 10.222810218978113, -5.4114893201989664, -25.747980997624712, 38.78183873398643, 22.590108968985763, -16.959823885525598, -47.356017432115316, -19.13812010443864, -33.65585398146396, -62.70439354781213, -64.24233732175054, -59.08664199192464, -79.68621064060804, -79.1815995189417, -86.47231551674503, -95.33333333333334, -34.94317763883781, -32.24331433581763, -3.983445190156601, 15.017944535073411, -29.01929725818124, -20.46129253254168, -43.82371692700032, -7.419679771480119, -20.831395348837205, 1.4174585075383277, -18.754351116155892, 9.059294214197793, 1.3693307960672314, -5.0345853477129054, 11.916666666666654, -23.5195339273475, -5.093846834882697, 33.89482926829268, 39.945529290853045, 67.75239398084815, 40.47603414313855, 32.22190339550454, 15.819969453990069, 47.5093201754386, 31.958015605603837, 11.53471870248353, -5.498412383409402, -27.931206657420248, 38.09147135416666, 20.283929340801365, -19.26575682382133, -47.57546859585662, -19.940072563493057, -35.34846448143935, -62.87613132209405, -66.02200154096397, -59.49204856361149, -78.46351537402478, -75.12026862026862, -87.27900132902981, -64.44069702079821, -35.85615166617804, -30.975420439844758, -6.357445008460232, 13.247255921432695, -30.228534642311107, -19.00726766661512, -43.49919137466307, -6.690225452388019, -20.813840155945414, 0.5928707829407927, -19.06415301546627, 9.085123631941627, 0.6730679882298318, -5.292664386164958, 11.415954415954413, -22.66219614417434, -5.119944211994422, -31.50152385002481], \"z\": [-16.65079527963058, -11.845082680591814, -8.942105263157899, -15.716624895572266, 5.604269618501675, 13.449559044955905, 16.782446899868322, 39.723315687072976, 46.988686131386864, 39.884131473715016, 55.49881235154393, 2.5406932931424246, 26.666806370494555, 38.97660979636764, 20.763325511230303, 40.378198433420366, 32.80470966521656, 52.29257641921397, 34.700131126044916, 38.39333781965007, 24.155266015200862, 7.6253758268189955, 1.078015545533063, -13.333333333333336, -24.977013607944087, -17.452871547566858, -32.59552572706935, -35.34975530179445, -25.078555921846103, -14.460150719342316, 9.95887790883009, -5.823949485078558, 9.926744186046506, 0.7317876599518627, 7.514661369655697, 10.528313500205172, 0.6181414525848368, -0.3633320937151296, -6.359903381642512, -13.07333790267306, -19.094732182381588, -16.320487804878052, -12.629667694415893, -7.797537619699042, -15.430400525279055, 3.796508847441416, 14.008781977854142, 16.518396686159846, 40.45726192587338, 46.368136509545536, 39.24528676324668, 56.957004160887664, 3.7327473958333286, 28.4489444205084, 39.15037220843672, 20.748766853008878, 40.69748529963718, 34.48112914900217, 51.89299023957409, 33.79847615786319, 38.40937072503419, 24.535566773749427, 8.74236874236874, -0.10603759255742773, -4.642683155330714, -24.985341542069772, -18.728762397585164, -32.684856175972925, -36.924032351242055, -24.63796571980365, -15.643033864233802, 8.757951482479783, -5.973894986650847, 9.400584795321636, 1.7402928071292223, 7.391415759128763, 10.973449533846777, 0.9464147436890188, -0.09730140630938422, -6.320512820512817, -13.692372170997489, -18.83635518363552, -32.853923027854556]}],\n                        {\"height\": 500, \"hovermode\": \"closest\", \"margin\": {\"t\": 100}, \"scene\": {\"xaxis\": {\"showbackground\": false, \"showgrid\": false, \"showline\": false, \"showticklabels\": false, \"title\": {\"text\": \"\"}, \"zeroline\": false}, \"yaxis\": {\"showbackground\": false, \"showgrid\": false, \"showline\": false, \"showticklabels\": false, \"title\": {\"text\": \"\"}, \"zeroline\": false}, \"zaxis\": {\"showbackground\": false, \"showgrid\": false, \"showline\": false, \"showticklabels\": false, \"title\": {\"text\": \"\"}, \"zeroline\": false}}, \"showlegend\": false, \"template\": {\"data\": {\"bar\": [{\"error_x\": {\"color\": \"#2a3f5f\"}, \"error_y\": {\"color\": \"#2a3f5f\"}, \"marker\": {\"line\": {\"color\": \"#E5ECF6\", \"width\": 0.5}}, \"type\": \"bar\"}], \"barpolar\": [{\"marker\": {\"line\": {\"color\": \"#E5ECF6\", \"width\": 0.5}}, \"type\": \"barpolar\"}], \"carpet\": [{\"aaxis\": {\"endlinecolor\": \"#2a3f5f\", \"gridcolor\": \"white\", \"linecolor\": \"white\", \"minorgridcolor\": \"white\", \"startlinecolor\": \"#2a3f5f\"}, \"baxis\": {\"endlinecolor\": \"#2a3f5f\", \"gridcolor\": \"white\", \"linecolor\": \"white\", \"minorgridcolor\": \"white\", \"startlinecolor\": \"#2a3f5f\"}, \"type\": \"carpet\"}], \"choropleth\": [{\"colorbar\": {\"outlinewidth\": 0, \"ticks\": \"\"}, \"type\": \"choropleth\"}], \"contour\": [{\"colorbar\": {\"outlinewidth\": 0, \"ticks\": \"\"}, \"colorscale\": [[0.0, \"#0d0887\"], [0.1111111111111111, \"#46039f\"], [0.2222222222222222, \"#7201a8\"], [0.3333333333333333, \"#9c179e\"], [0.4444444444444444, \"#bd3786\"], [0.5555555555555556, \"#d8576b\"], [0.6666666666666666, \"#ed7953\"], [0.7777777777777778, \"#fb9f3a\"], [0.8888888888888888, \"#fdca26\"], [1.0, \"#f0f921\"]], \"type\": \"contour\"}], \"contourcarpet\": [{\"colorbar\": {\"outlinewidth\": 0, \"ticks\": \"\"}, \"type\": \"contourcarpet\"}], \"heatmap\": [{\"colorbar\": {\"outlinewidth\": 0, \"ticks\": \"\"}, \"colorscale\": [[0.0, \"#0d0887\"], [0.1111111111111111, \"#46039f\"], [0.2222222222222222, \"#7201a8\"], [0.3333333333333333, \"#9c179e\"], [0.4444444444444444, \"#bd3786\"], [0.5555555555555556, \"#d8576b\"], [0.6666666666666666, \"#ed7953\"], [0.7777777777777778, \"#fb9f3a\"], [0.8888888888888888, \"#fdca26\"], [1.0, \"#f0f921\"]], \"type\": \"heatmap\"}], \"heatmapgl\": [{\"colorbar\": {\"outlinewidth\": 0, \"ticks\": \"\"}, \"colorscale\": [[0.0, \"#0d0887\"], [0.1111111111111111, \"#46039f\"], [0.2222222222222222, \"#7201a8\"], [0.3333333333333333, \"#9c179e\"], [0.4444444444444444, \"#bd3786\"], [0.5555555555555556, \"#d8576b\"], [0.6666666666666666, \"#ed7953\"], [0.7777777777777778, \"#fb9f3a\"], [0.8888888888888888, \"#fdca26\"], [1.0, \"#f0f921\"]], \"type\": \"heatmapgl\"}], \"histogram\": [{\"marker\": {\"colorbar\": {\"outlinewidth\": 0, \"ticks\": \"\"}}, \"type\": \"histogram\"}], \"histogram2d\": [{\"colorbar\": {\"outlinewidth\": 0, \"ticks\": \"\"}, \"colorscale\": [[0.0, \"#0d0887\"], [0.1111111111111111, \"#46039f\"], [0.2222222222222222, \"#7201a8\"], [0.3333333333333333, \"#9c179e\"], [0.4444444444444444, \"#bd3786\"], [0.5555555555555556, \"#d8576b\"], [0.6666666666666666, \"#ed7953\"], [0.7777777777777778, \"#fb9f3a\"], [0.8888888888888888, \"#fdca26\"], [1.0, \"#f0f921\"]], \"type\": \"histogram2d\"}], \"histogram2dcontour\": [{\"colorbar\": {\"outlinewidth\": 0, \"ticks\": \"\"}, \"colorscale\": [[0.0, \"#0d0887\"], [0.1111111111111111, \"#46039f\"], [0.2222222222222222, \"#7201a8\"], [0.3333333333333333, \"#9c179e\"], [0.4444444444444444, \"#bd3786\"], [0.5555555555555556, \"#d8576b\"], [0.6666666666666666, \"#ed7953\"], [0.7777777777777778, \"#fb9f3a\"], [0.8888888888888888, \"#fdca26\"], [1.0, \"#f0f921\"]], \"type\": \"histogram2dcontour\"}], \"mesh3d\": [{\"colorbar\": {\"outlinewidth\": 0, \"ticks\": \"\"}, \"type\": \"mesh3d\"}], \"parcoords\": [{\"line\": {\"colorbar\": {\"outlinewidth\": 0, \"ticks\": \"\"}}, \"type\": \"parcoords\"}], \"pie\": [{\"automargin\": true, \"type\": \"pie\"}], \"scatter\": [{\"marker\": {\"colorbar\": {\"outlinewidth\": 0, \"ticks\": \"\"}}, \"type\": \"scatter\"}], \"scatter3d\": [{\"line\": {\"colorbar\": {\"outlinewidth\": 0, \"ticks\": \"\"}}, \"marker\": {\"colorbar\": {\"outlinewidth\": 0, \"ticks\": \"\"}}, \"type\": \"scatter3d\"}], \"scattercarpet\": [{\"marker\": {\"colorbar\": {\"outlinewidth\": 0, \"ticks\": \"\"}}, \"type\": \"scattercarpet\"}], \"scattergeo\": [{\"marker\": {\"colorbar\": {\"outlinewidth\": 0, \"ticks\": \"\"}}, \"type\": \"scattergeo\"}], \"scattergl\": [{\"marker\": {\"colorbar\": {\"outlinewidth\": 0, \"ticks\": \"\"}}, \"type\": \"scattergl\"}], \"scattermapbox\": [{\"marker\": {\"colorbar\": {\"outlinewidth\": 0, \"ticks\": \"\"}}, \"type\": \"scattermapbox\"}], \"scatterpolar\": [{\"marker\": {\"colorbar\": {\"outlinewidth\": 0, \"ticks\": \"\"}}, \"type\": \"scatterpolar\"}], \"scatterpolargl\": [{\"marker\": {\"colorbar\": {\"outlinewidth\": 0, \"ticks\": \"\"}}, \"type\": \"scatterpolargl\"}], \"scatterternary\": [{\"marker\": {\"colorbar\": {\"outlinewidth\": 0, \"ticks\": \"\"}}, \"type\": \"scatterternary\"}], \"surface\": [{\"colorbar\": {\"outlinewidth\": 0, \"ticks\": \"\"}, \"colorscale\": [[0.0, \"#0d0887\"], [0.1111111111111111, \"#46039f\"], [0.2222222222222222, \"#7201a8\"], [0.3333333333333333, \"#9c179e\"], [0.4444444444444444, \"#bd3786\"], [0.5555555555555556, \"#d8576b\"], [0.6666666666666666, \"#ed7953\"], [0.7777777777777778, \"#fb9f3a\"], [0.8888888888888888, \"#fdca26\"], [1.0, \"#f0f921\"]], \"type\": \"surface\"}], \"table\": [{\"cells\": {\"fill\": {\"color\": \"#EBF0F8\"}, \"line\": {\"color\": \"white\"}}, \"header\": {\"fill\": {\"color\": \"#C8D4E3\"}, \"line\": {\"color\": \"white\"}}, \"type\": \"table\"}]}, \"layout\": {\"annotationdefaults\": {\"arrowcolor\": \"#2a3f5f\", \"arrowhead\": 0, \"arrowwidth\": 1}, \"coloraxis\": {\"colorbar\": {\"outlinewidth\": 0, \"ticks\": \"\"}}, \"colorscale\": {\"diverging\": [[0, \"#8e0152\"], [0.1, \"#c51b7d\"], [0.2, \"#de77ae\"], [0.3, \"#f1b6da\"], [0.4, \"#fde0ef\"], [0.5, \"#f7f7f7\"], [0.6, \"#e6f5d0\"], [0.7, \"#b8e186\"], [0.8, \"#7fbc41\"], [0.9, \"#4d9221\"], [1, \"#276419\"]], \"sequential\": [[0.0, \"#0d0887\"], [0.1111111111111111, \"#46039f\"], [0.2222222222222222, \"#7201a8\"], [0.3333333333333333, \"#9c179e\"], [0.4444444444444444, \"#bd3786\"], [0.5555555555555556, \"#d8576b\"], [0.6666666666666666, \"#ed7953\"], [0.7777777777777778, \"#fb9f3a\"], [0.8888888888888888, \"#fdca26\"], [1.0, \"#f0f921\"]], \"sequentialminus\": [[0.0, \"#0d0887\"], [0.1111111111111111, \"#46039f\"], [0.2222222222222222, \"#7201a8\"], [0.3333333333333333, \"#9c179e\"], [0.4444444444444444, \"#bd3786\"], [0.5555555555555556, \"#d8576b\"], [0.6666666666666666, \"#ed7953\"], [0.7777777777777778, \"#fb9f3a\"], [0.8888888888888888, \"#fdca26\"], [1.0, \"#f0f921\"]]}, \"colorway\": [\"#636efa\", \"#EF553B\", \"#00cc96\", \"#ab63fa\", \"#FFA15A\", \"#19d3f3\", \"#FF6692\", \"#B6E880\", \"#FF97FF\", \"#FECB52\"], \"font\": {\"color\": \"#2a3f5f\"}, \"geo\": {\"bgcolor\": \"white\", \"lakecolor\": \"white\", \"landcolor\": \"#E5ECF6\", \"showlakes\": true, \"showland\": true, \"subunitcolor\": \"white\"}, \"hoverlabel\": {\"align\": \"left\"}, \"hovermode\": \"closest\", \"mapbox\": {\"style\": \"light\"}, \"paper_bgcolor\": \"white\", \"plot_bgcolor\": \"#E5ECF6\", \"polar\": {\"angularaxis\": {\"gridcolor\": \"white\", \"linecolor\": \"white\", \"ticks\": \"\"}, \"bgcolor\": \"#E5ECF6\", \"radialaxis\": {\"gridcolor\": \"white\", \"linecolor\": \"white\", \"ticks\": \"\"}}, \"scene\": {\"xaxis\": {\"backgroundcolor\": \"#E5ECF6\", \"gridcolor\": \"white\", \"gridwidth\": 2, \"linecolor\": \"white\", \"showbackground\": true, \"ticks\": \"\", \"zerolinecolor\": \"white\"}, \"yaxis\": {\"backgroundcolor\": \"#E5ECF6\", \"gridcolor\": \"white\", \"gridwidth\": 2, \"linecolor\": \"white\", \"showbackground\": true, \"ticks\": \"\", \"zerolinecolor\": \"white\"}, \"zaxis\": {\"backgroundcolor\": \"#E5ECF6\", \"gridcolor\": \"white\", \"gridwidth\": 2, \"linecolor\": \"white\", \"showbackground\": true, \"ticks\": \"\", \"zerolinecolor\": \"white\"}}, \"shapedefaults\": {\"line\": {\"color\": \"#2a3f5f\"}}, \"ternary\": {\"aaxis\": {\"gridcolor\": \"white\", \"linecolor\": \"white\", \"ticks\": \"\"}, \"baxis\": {\"gridcolor\": \"white\", \"linecolor\": \"white\", \"ticks\": \"\"}, \"bgcolor\": \"#E5ECF6\", \"caxis\": {\"gridcolor\": \"white\", \"linecolor\": \"white\", \"ticks\": \"\"}}, \"title\": {\"x\": 0.05}, \"xaxis\": {\"automargin\": true, \"gridcolor\": \"white\", \"linecolor\": \"white\", \"ticks\": \"\", \"title\": {\"standoff\": 15}, \"zerolinecolor\": \"white\", \"zerolinewidth\": 2}, \"yaxis\": {\"automargin\": true, \"gridcolor\": \"white\", \"linecolor\": \"white\", \"ticks\": \"\", \"title\": {\"standoff\": 15}, \"zerolinecolor\": \"white\", \"zerolinewidth\": 2}}}, \"title\": {\"text\": \"Connectome\"}, \"width\": 1000},\n                        {\"responsive\": true}\n                    ).then(function(){\n                            \nvar gd = document.getElementById('5b0951b8-a764-4bec-8cb3-5c0a5358f806');\nvar x = new MutationObserver(function (mutations, observer) {{\n        var display = window.getComputedStyle(gd).display;\n        if (!display || display === 'none') {{\n            console.log([gd, 'removed!']);\n            Plotly.purge(gd);\n            observer.disconnect();\n        }}\n}});\n\n// Listen for the removal of the full notebook cells\nvar notebookContainer = gd.closest('#notebook-container');\nif (notebookContainer) {{\n    x.observe(notebookContainer, {childList: true});\n}}\n\n// Listen for the clearing of the current output cell\nvar outputEl = gd.closest('.output');\nif (outputEl) {{\n    x.observe(outputEl, {childList: true});\n}}\n\n                        })\n                };\n                });\n            </script>\n        </div>"
     },
     "metadata": {}
    }
   ],
   "source": [
    "plot_nodes(data.T[4], colour='RdBu_r')"
   ]
  }
 ]
}