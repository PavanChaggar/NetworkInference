{
 "metadata": {
  "language_info": {
   "codemirror_mode": {
    "name": "ipython",
    "version": 3
   },
   "file_extension": ".py",
   "mimetype": "text/x-python",
   "name": "python",
   "nbconvert_exporter": "python",
   "pygments_lexer": "ipython3",
   "version": "3.6.9-final"
  },
  "orig_nbformat": 2,
  "kernelspec": {
   "name": "python_defaultSpec_1600785525028",
   "display_name": "Python 3.6.9 64-bit ('env': venv)"
  }
 },
 "nbformat": 4,
 "nbformat_minor": 2,
 "cells": [
  {
   "cell_type": "code",
   "execution_count": 1,
   "metadata": {},
   "outputs": [],
   "source": [
    "from netwin import *\n",
    "import os\n",
    "import matplotlib.pyplot as plt"
   ]
  },
  {
   "cell_type": "code",
   "execution_count": 2,
   "metadata": {},
   "outputs": [],
   "source": [
    "root_dir = '/home/chaggar/Documents/Network_Inference'\n",
    "graph_path = os.path.join(root_dir, 'data/brain_networks/scale1.csv')\n"
   ]
  },
  {
   "cell_type": "code",
   "execution_count": 3,
   "metadata": {},
   "outputs": [],
   "source": [
    "class NetworkDiffusion(Model):\n",
    "\n",
    "    def f(self, p, t, theta):\n",
    "        k = theta\n",
    "        du = k * (-self.L() @ p)\n",
    "        return du\n",
    "\n",
    "    def solve(self, p, theta):\n",
    "        return odeint(self.f, p, self.t, args=(theta,))\n",
    "\n",
    "    def forward(self, u0): \n",
    "        p = np.exp(u0[:-1])\n",
    "        theta = u0[-1]\n",
    "        #\n",
    "        # print(u0)\n",
    "        u = self.solve(p,theta) \n",
    "        return u.T "
   ]
  },
  {
   "cell_type": "code",
   "execution_count": 4,
   "metadata": {},
   "outputs": [],
   "source": [
    "m = NetworkDiffusion(network_path=graph_path)"
   ]
  },
  {
   "cell_type": "code",
   "execution_count": 5,
   "metadata": {},
   "outputs": [],
   "source": [
    "p = np.ones([83])\n",
    "p[40] = 10\n",
    "k = 5\n",
    "\n",
    "u0 = np.append(np.log(p), k)\n",
    "\n",
    "t = np.linspace(0,0.1,100)\n",
    "\n",
    "p0 = np.ones([83])\n",
    "k0 = 1\n",
    "\n",
    "u_0 = np.append(p0, k0)"
   ]
  },
  {
   "cell_type": "code",
   "execution_count": 6,
   "metadata": {},
   "outputs": [],
   "source": [
    "sim = m.f(p = p, t = t, theta = k)"
   ]
  },
  {
   "cell_type": "code",
   "execution_count": 7,
   "metadata": {
    "tags": []
   },
   "outputs": [],
   "source": [
    "data = m.forward(u0=u0, t = t)"
   ]
  },
  {
   "cell_type": "code",
   "execution_count": 8,
   "metadata": {},
   "outputs": [],
   "source": [
    "problem = InferenceProblem(inference='VB', model=m, data = data, t=t, init_means=u_0)"
   ]
  },
  {
   "cell_type": "code",
   "execution_count": 11,
   "metadata": {
    "tags": []
   },
   "outputs": [
    {
     "output_type": "stream",
     "name": "stdout",
     "text": "Iteration 0\nIteration 1\nIteration 2\nIteration 3\nIteration 4\nIteration 5\nIteration 6\nIteration 7\nIteration 8\nIteration 9\nIteration 10\nIteration 11\nIteration 12\nIteration 13\nIteration 14\nIteration 15\nIteration 16\nIteration 17\nIteration 18\nIteration 19\nFinished!\n"
    }
   ],
   "source": [
    "sol = problem.infer(n=20)"
   ]
  },
  {
   "cell_type": "code",
   "execution_count": 12,
   "metadata": {},
   "outputs": [
    {
     "output_type": "execute_result",
     "data": {
      "text/plain": "array([2.44008577e-03, 3.35540592e-03, 3.36326701e-03, 3.34268263e-03,\n       2.44512524e-03, 2.45217449e-03, 2.45644039e-03, 2.45826921e-03,\n       2.45823691e-03, 2.46298271e-03, 2.45356214e-03, 3.33785329e-03,\n       2.46583834e-03, 2.46923333e-03, 2.47604562e-03, 2.45820786e-03,\n       2.46109515e-03, 2.46658308e-03, 2.45428759e-03, 2.45276287e-03,\n       3.33845738e-03, 2.43621590e-03, 2.44141450e-03, 2.44521206e-03,\n       2.42828201e-03, 2.43263857e-03, 2.42466668e-03, 2.42539677e-03,\n       2.42946063e-03, 2.42815445e-03, 2.43399282e-03, 2.43298639e-03,\n       2.42786845e-03, 2.46698991e-03, 2.48108819e-03, 2.47988877e-03,\n       2.46758180e-03, 2.44947116e-03, 2.45260148e-03, 2.47057298e-03,\n       2.27847104e+00, 3.36317603e-03, 3.38235585e-03, 3.37288310e-03,\n       3.36871642e-03, 3.35789488e-03, 3.34552449e-03, 3.34145118e-03,\n       3.33894969e-03, 3.33738529e-03, 3.33653920e-03, 3.34623197e-03,\n       3.34743065e-03, 3.33052235e-03, 3.32530998e-03, 3.31587018e-03,\n       3.34936809e-03, 3.34201853e-03, 3.32736197e-03, 3.33927785e-03,\n       3.33285202e-03, 3.36395221e-03, 3.36605337e-03, 3.35318633e-03,\n       3.35330941e-03, 3.36620002e-03, 3.36699186e-03, 3.38153374e-03,\n       3.37974839e-03, 3.36759269e-03, 3.36535967e-03, 3.36225837e-03,\n       3.35504877e-03, 3.36416130e-03, 3.33333203e-03, 2.48210937e-03,\n       2.48442237e-03, 3.33170603e-03, 2.47935604e-03, 2.46465111e-03,\n       2.47988008e-03, 2.47523984e-03, 2.46986993e-03, 4.69628721e+00])"
     },
     "metadata": {},
     "execution_count": 12
    }
   ],
   "source": [
    "sol[0]"
   ]
  },
  {
   "cell_type": "code",
   "execution_count": 10,
   "metadata": {},
   "outputs": [],
   "source": [
    "fkpp = NetworkFKPP(network_path=graph_path)"
   ]
  },
  {
   "cell_type": "code",
   "execution_count": 11,
   "metadata": {},
   "outputs": [],
   "source": [
    "p = np.ones([83])\n",
    "p[40] = 40\n",
    "k = 5\n",
    "a = 1\n",
    "\n",
    "u0 = np.append(np.log(p), [k, a])\n",
    "\n",
    "t = np.linspace(0,1,100)\n",
    "\n",
    "p0 = np.ones([83])\n",
    "k0 = 2\n",
    "a0 = 3\n",
    "u_0 = np.append(p0, [k0, a0])"
   ]
  },
  {
   "cell_type": "code",
   "execution_count": 12,
   "metadata": {},
   "outputs": [],
   "source": [
    "sim = fkpp.f(p = p, t = t, theta = [k, a])"
   ]
  },
  {
   "cell_type": "code",
   "execution_count": 13,
   "metadata": {
    "tags": []
   },
   "outputs": [],
   "source": [
    "data = fkpp.forward(u0=u0, t=t)"
   ]
  },
  {
   "cell_type": "code",
   "execution_count": 14,
   "metadata": {},
   "outputs": [],
   "source": [
    "problem = InferenceProblem(inference='VB', model=fkpp, data = data, t=t, init_means=u_0)"
   ]
  },
  {
   "cell_type": "code",
   "execution_count": 16,
   "metadata": {
    "tags": []
   },
   "outputs": [
    {
     "output_type": "stream",
     "name": "stdout",
     "text": "Iteration 0\nIteration 1\nIteration 2\nIteration 3\nIteration 4\nIteration 5\nIteration 6\nIteration 7\nIteration 8\nIteration 9\nFinished!\n"
    }
   ],
   "source": [
    "sol = problem.infer()"
   ]
  },
  {
   "cell_type": "code",
   "execution_count": 17,
   "metadata": {},
   "outputs": [
    {
     "output_type": "execute_result",
     "data": {
      "text/plain": "<netwin._model_library.NetworkFKPP at 0x7f73513b5048>"
     },
     "metadata": {},
     "execution_count": 17
    }
   ],
   "source": [
    "problem.get('model')"
   ]
  }
 ]
}